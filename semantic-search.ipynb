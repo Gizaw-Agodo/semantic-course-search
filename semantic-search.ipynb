{
 "cells": [
  {
   "cell_type": "markdown",
   "id": "8d4dc7a8-c865-4e97-a7e4-98963b5f1860",
   "metadata": {},
   "source": [
    "# 🧠 AI-Powered Course Search with OpenAI and Pinecone\n",
    "\n",
    "This project builds a semantic search engine that lets users search through course data using natural language queries. It leverages **OpenAI embeddings** to capture the meaning of course descriptions and **Pinecone** as the vector database for fast and scalable similarity search.\n"
   ]
  },
  {
   "cell_type": "markdown",
   "id": "e248dc4b-fb4b-4e1b-a724-4a528194e7d9",
   "metadata": {},
   "source": [
    "### 1. Import Libraries and Initialize Environment\n",
    "\n",
    "This section imports the necessary Python libraries and loads environment variables required for API access (such as OpenAI keys, Pinecone config, etc.). These setup steps are essential for preparing the environment before executing any embedding or vector database operations.\n"
   ]
  },
  {
   "cell_type": "code",
   "execution_count": 38,
   "id": "9df03e23-1977-4a2d-bbad-f2a47acdd14f",
   "metadata": {},
   "outputs": [],
   "source": [
    "import pinecone\n",
    "from pinecone import ServerlessSpec, Pinecone\n",
    "import os \n",
    "import uuid\n",
    "from dotenv import load_dotenv\n",
    "from langchain_community.document_loaders import PyPDFLoader\n",
    "from langchain_openai import OpenAIEmbeddings, ChatOpenAI\n",
    "import pandas as pd \n",
    "from pprint import pprint  \n",
    "load_dotenv(\"env\")\n",
    "OPENAI_API_KEY = os.getenv('OPENAI_API_KEY')\n",
    "PINECONE_API_KEY = os.getenv(\"PINECONE_API_KEY\")"
   ]
  },
  {
   "cell_type": "markdown",
   "id": "c7bda4c2-1558-4a1f-82c8-eb0caddd404f",
   "metadata": {},
   "source": [
    "### 2. Load and Process Course Data\n",
    "\n",
    "This section loads course data from a CSV file and processes it to generate structured metadata for each course. It also creates formatted course descriptions that combine key fields such as course name, slug, technology, and topic — which will late\n"
   ]
  },
  {
   "cell_type": "code",
   "execution_count": 39,
   "id": "bdd3bf93-9dee-43b6-a79a-8d0c6a04ed6e",
   "metadata": {},
   "outputs": [],
   "source": [
    "files = pd.read_csv(\"course_descriptions.csv\", encoding=\"latin1\")\n",
    "\n",
    "def create_course_metadata(row):\n",
    "    return {\n",
    "        \"course_name\": row[\"course_name\"],\n",
    "        \"technology\": row[\"course_technology\"],\n",
    "        \"description\": row[\"course_description_short\"]\n",
    "    }\n",
    "\n",
    "def create_course_description(row):\n",
    "    return f'''\n",
    "     the course name is {row[\"course_name\"]},\n",
    "     the slug is {row[\"course_slug\"]}, \n",
    "     the technology is {row[\"course_technology\"]}\n",
    "     and the course topic is {row[\"course_topic\"]}\n",
    "    '''\n",
    "    \n",
    "files[\"course_metadata\"] = files.apply(create_course_metadata, axis=1)\n",
    "files[\"course_description_new\"] = files.apply(create_course_description, axis=1)"
   ]
  },
  {
   "cell_type": "markdown",
   "id": "a4e2e935-2734-4e0b-aaab-9507a763b5bf",
   "metadata": {},
   "source": [
    "### 3. Initialize Pinecone and Embeddings\n",
    "\n",
    "This section sets up the Pinecone client and configures the OpenAI embeddings model. The embeddings model is used to convert course descriptions into numerical vector representations, which will be stored and queried in the\n"
   ]
  },
  {
   "cell_type": "code",
   "execution_count": 40,
   "id": "df71fa05-f8ef-4d87-b667-2fbe9d5499fc",
   "metadata": {},
   "outputs": [],
   "source": [
    "pc = Pinecone(api_key = PINECONE_API_KEY,environment = \"gcp-starter\")\n",
    "embedder = OpenAIEmbeddings(model=\"text-embedding-3-small\")"
   ]
  },
  {
   "cell_type": "markdown",
   "id": "5783b60c-97d6-49b1-a824-79e86c2af71a",
   "metadata": {},
   "source": [
    "### 4. Generate Document Texts and Embeddings\n",
    "\n",
    "This section processes the formatted course descriptions to create clean text inputs suitable for embedding. These texts are then passed to the OpenAI embeddings model to generate their corresponding vector representations, which capture the semantic meaning of each course.\n"
   ]
  },
  {
   "cell_type": "code",
   "execution_count": 41,
   "id": "90727712-1531-479b-b121-1acef5934d32",
   "metadata": {},
   "outputs": [],
   "source": [
    "def get_doc_texts_from_df(df):\n",
    "    fields = [\"course_description_new\"]\n",
    "    doc_texts = []\n",
    "    for _, row in df.iterrows():\n",
    "        combined = \" \".join([str(row.get(field, \"\")) for field in fields])\n",
    "        doc_texts.append(combined.strip())\n",
    "    return doc_texts\n",
    "\n",
    "doc_texts = get_doc_texts_from_df(files)\n",
    "embeddings = embedder.embed_documents(doc_texts)\n"
   ]
  },
  {
   "cell_type": "markdown",
   "id": "4e4dc86d-695a-4142-8cd4-dc7f78e890b3",
   "metadata": {},
   "source": [
    "### 5. Create and Populate Pinecone Index\n",
    "\n",
    "This section checks whether the specified Pinecone index exists and creates it if necessary. It then upserts the generated embeddings into the index in batches, attaching relevant metadata (such as course name, technology, and description) to each vector for efficient semantic search.\n"
   ]
  },
  {
   "cell_type": "code",
   "execution_count": 42,
   "id": "4229ffa0-cfc2-4843-a16d-db22b3f79458",
   "metadata": {},
   "outputs": [],
   "source": [
    "existing_indexes = pc.list_indexes().names()\n",
    "index_name = \"semantic-search-final\"\n",
    "if index_name not in existing_indexes:\n",
    "    pc.create_index(\n",
    "        name=index_name,\n",
    "        dimension=len(embeddings[0]),\n",
    "        metric=\"cosine\",\n",
    "        spec=ServerlessSpec(region=\"us-east-1\", cloud = \"aws\")\n",
    "        \n",
    "    )\n",
    "\n",
    "index = pc.Index(index_name)\n",
    "# Format data for Pinecone\n",
    "vectors = [\n",
    "    {\n",
    "        \"id\": str(uuid.uuid4()),\n",
    "        \"values\": embedding,\n",
    "        \"metadata\": files[\"course_metadata\"].iloc[i]\n",
    "    }\n",
    "    for i, embedding in enumerate(embeddings)\n",
    "]\n",
    "\n",
    "\n",
    "batch_size = 100\n",
    "for i in range(0, len(vectors), batch_size):\n",
    "    batch = vectors[i:i+batch_size]\n",
    "    index.upsert(vectors=batch)"
   ]
  },
  {
   "cell_type": "markdown",
   "id": "0fa379d3-d720-452a-9e0d-0503a557cd42",
   "metadata": {},
   "source": [
    "### 6. Perform Semantic Search\n",
    "\n",
    "This section executes a semantic search by embedding a user-provided query and comparing it against the vectors stored in the Pinecone index. It retrieves the top matching results based on similarity scores and displays their metadata, allowing for meaningful search over course content.\n",
    "\n"
   ]
  },
  {
   "cell_type": "code",
   "execution_count": 31,
   "id": "84a56841-f505-4a54-8a8f-41b714c6f97a",
   "metadata": {},
   "outputs": [],
   "source": [
    "index = pc.Index(index_name)\n",
    "query = \"python beginner\"\n",
    "query_vector = embedder.embed_query(query)\n"
   ]
  },
  {
   "cell_type": "code",
   "execution_count": 37,
   "id": "784b3c12-2cf2-4baa-a420-54f55514c1d0",
   "metadata": {},
   "outputs": [
    {
     "name": "stdout",
     "output_type": "stream",
     "text": [
      "🔹 Match #1\n",
      "   - Score      : 0.3279\n",
      "   - Course Name: A/B Testing in Python\n",
      "   - Technology : python\n",
      "   - escription: A world-class professional teaches you how to perform A/B test experiments to create real business value and improve product experience.\n",
      "\n",
      "🔹 Match #2\n",
      "   - Score      : 0.3247\n",
      "   - Course Name: Working with Text Files in Python\n",
      "   - Technology : python\n",
      "   - escription: Covering the essentials and providing hands-on experience working with *.csv, *.txt, *.json, and other types of text files in Python. With these tools under your belt, youll be an independent analyst, ready to gain more insights from your data.\n",
      "\n",
      "🔹 Match #3\n",
      "   - Score      : 0.3104\n",
      "   - Course Name: Introduction to Python\n",
      "   - Technology : python\n",
      "   - escription: Laying the foundations of programming in Python to prepare you for deploying machine and deep learning algorithms later in the training.\n",
      "\n",
      "🔹 Match #4\n",
      "   - Score      : 0.3047\n",
      "   - Course Name: Web Scraping and API Fundamentals in Python\n",
      "   - Technology : python\n",
      "   - escription: Introducing you to the fundamentals of data extraction from the web using Python. We will learn about APIs, Beautiful Soup and Requests-HTML.\n",
      "\n"
     ]
    }
   ],
   "source": [
    "score_threshold = 0.3\n",
    "search_results = index.query(\n",
    "    vector=query_vector,\n",
    "    top_k=5,\n",
    "    include_metadata=True\n",
    ")\n",
    "\n",
    "for i, match in enumerate(search_results['matches'], start=1):\n",
    "    if match['score'] >= score_threshold:\n",
    "        print(f\"🔹 Match #{i}\")\n",
    "        print(f\"   - Score      : {match['score']:.4f}\")\n",
    "        print(f\"   - Course Name: {match['metadata'].get('course_name', 'N/A')}\")\n",
    "        print(f\"   - Technology : {match['metadata'].get('technology', 'N/A')}\")\n",
    "        print(f\"   - Description: {match['metadata'].get('description', 'N/A')}\\n\")"
   ]
  },
  {
   "cell_type": "code",
   "execution_count": null,
   "id": "c6b9c169-e476-44b4-8fc4-4cc9ba65b8bb",
   "metadata": {},
   "outputs": [],
   "source": []
  }
 ],
 "metadata": {
  "kernelspec": {
   "display_name": "Python [conda env:langchain_env]",
   "language": "python",
   "name": "conda-env-langchain_env-py"
  },
  "language_info": {
   "codemirror_mode": {
    "name": "ipython",
    "version": 3
   },
   "file_extension": ".py",
   "mimetype": "text/x-python",
   "name": "python",
   "nbconvert_exporter": "python",
   "pygments_lexer": "ipython3",
   "version": "3.10.18"
  }
 },
 "nbformat": 4,
 "nbformat_minor": 5
}
